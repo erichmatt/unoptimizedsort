{
 "cells": [
  {
   "cell_type": "code",
   "execution_count": 34,
   "metadata": {},
   "outputs": [],
   "source": [
    "import random\n",
    "import matplotlib.pyplot as plt"
   ]
  },
  {
   "cell_type": "code",
   "execution_count": 52,
   "metadata": {},
   "outputs": [],
   "source": [
    "data = []\n",
    "\n",
    "for i in range(100):\n",
    "    data.append(random.randint(1,100))"
   ]
  },
  {
   "cell_type": "markdown",
   "metadata": {},
   "source": [
    "Bubble Sort\n",
    "========"
   ]
  },
  {
   "cell_type": "code",
   "execution_count": 36,
   "metadata": {},
   "outputs": [],
   "source": [
    "def bubbleSort(n):\n",
    "    for i in range(len(n)):\n",
    "        for j in range(len(n) - i - 1):\n",
    "            if n[j] > n[j + 1]:\n",
    "                (n[j],n[j + 1]) = (n[j + 1],n[j])\n",
    "                            \n",
    "            \n",
    "    return n"
   ]
  },
  {
   "cell_type": "markdown",
   "metadata": {},
   "source": [
    "Inserstion Sort\n",
    "==========="
   ]
  },
  {
   "cell_type": "code",
   "execution_count": 37,
   "metadata": {},
   "outputs": [],
   "source": [
    "def minimum(n):\n",
    "    m = n[0]\n",
    "    for i in range(len(n)):\n",
    "        if n[i] < m:\n",
    "            m = n[i]\n",
    "                        \n",
    "    return m\n",
    "\n",
    "def insertionSort(n):\n",
    "    result = []\n",
    "    for i in range(len(n)):\n",
    "        result.append(minimum(n))\n",
    "        n.remove(minimum(n))\n",
    "        \n",
    "    return result"
   ]
  },
  {
   "cell_type": "markdown",
   "metadata": {},
   "source": [
    "Bogo Sort\n",
    "======="
   ]
  },
  {
   "cell_type": "code",
   "execution_count": 48,
   "metadata": {},
   "outputs": [],
   "source": [
    "def isSorted(n):\n",
    "    sort = False\n",
    "    for i in range(len(n) - 1):\n",
    "        if n[i] < n[i+1]:\n",
    "            sort = True\n",
    "            \n",
    "        sort = False\n",
    "        \n",
    "    return sort\n",
    "\n",
    "\n",
    "def bogoSort(n):\n",
    "    while not isSorted(n):\n",
    "        random.shuffle(n)\n",
    "        \n",
    "        \n",
    "    return n"
   ]
  }
 ],
 "metadata": {
  "kernelspec": {
   "display_name": "Python 3",
   "language": "python",
   "name": "python3"
  },
  "language_info": {
   "codemirror_mode": {
    "name": "ipython",
    "version": 3
   },
   "file_extension": ".py",
   "mimetype": "text/x-python",
   "name": "python",
   "nbconvert_exporter": "python",
   "pygments_lexer": "ipython3",
   "version": "3.7.1"
  }
 },
 "nbformat": 4,
 "nbformat_minor": 2
}
